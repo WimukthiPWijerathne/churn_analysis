{
 "cells": [
  {
   "cell_type": "code",
   "execution_count": 1,
   "id": "bbfb1b51",
   "metadata": {},
   "outputs": [
    {
     "name": "stdout",
     "output_type": "stream",
     "text": [
      "Requirement already satisfied: numpy in d:\\installation\\anaconda\\envs\\myenv\\lib\\site-packages (from -r ../requirements.txt (line 1)) (2.3.2)\n",
      "Requirement already satisfied: pandas in d:\\installation\\anaconda\\envs\\myenv\\lib\\site-packages (from -r ../requirements.txt (line 2)) (2.3.1)\n",
      "Requirement already satisfied: scikit-learn in d:\\installation\\anaconda\\envs\\myenv\\lib\\site-packages (from -r ../requirements.txt (line 3)) (1.7.1)\n",
      "Requirement already satisfied: openai in d:\\installation\\anaconda\\envs\\myenv\\lib\\site-packages (from -r ../requirements.txt (line 4)) (1.99.7)\n",
      "Requirement already satisfied: groq in d:\\installation\\anaconda\\envs\\myenv\\lib\\site-packages (from -r ../requirements.txt (line 5)) (0.31.0)\n",
      "Requirement already satisfied: seaborn in d:\\installation\\anaconda\\envs\\myenv\\lib\\site-packages (from -r ../requirements.txt (line 6)) (0.13.2)\n",
      "Requirement already satisfied: dotenv in d:\\installation\\anaconda\\envs\\myenv\\lib\\site-packages (from -r ../requirements.txt (line 7)) (0.9.9)\n",
      "Requirement already satisfied: matplotlib in d:\\installation\\anaconda\\envs\\myenv\\lib\\site-packages (from -r ../requirements.txt (line 8)) (3.10.5)\n",
      "Requirement already satisfied: python-dateutil>=2.8.2 in d:\\installation\\anaconda\\envs\\myenv\\lib\\site-packages (from pandas->-r ../requirements.txt (line 2)) (2.9.0.post0)\n",
      "Requirement already satisfied: pytz>=2020.1 in d:\\installation\\anaconda\\envs\\myenv\\lib\\site-packages (from pandas->-r ../requirements.txt (line 2)) (2025.2)\n",
      "Requirement already satisfied: tzdata>=2022.7 in d:\\installation\\anaconda\\envs\\myenv\\lib\\site-packages (from pandas->-r ../requirements.txt (line 2)) (2025.2)\n",
      "Requirement already satisfied: scipy>=1.8.0 in d:\\installation\\anaconda\\envs\\myenv\\lib\\site-packages (from scikit-learn->-r ../requirements.txt (line 3)) (1.16.1)\n",
      "Requirement already satisfied: joblib>=1.2.0 in d:\\installation\\anaconda\\envs\\myenv\\lib\\site-packages (from scikit-learn->-r ../requirements.txt (line 3)) (1.5.1)\n",
      "Requirement already satisfied: threadpoolctl>=3.1.0 in d:\\installation\\anaconda\\envs\\myenv\\lib\\site-packages (from scikit-learn->-r ../requirements.txt (line 3)) (3.6.0)\n",
      "Requirement already satisfied: anyio<5,>=3.5.0 in d:\\installation\\anaconda\\envs\\myenv\\lib\\site-packages (from openai->-r ../requirements.txt (line 4)) (4.10.0)\n",
      "Requirement already satisfied: distro<2,>=1.7.0 in d:\\installation\\anaconda\\envs\\myenv\\lib\\site-packages (from openai->-r ../requirements.txt (line 4)) (1.9.0)\n",
      "Requirement already satisfied: httpx<1,>=0.23.0 in d:\\installation\\anaconda\\envs\\myenv\\lib\\site-packages (from openai->-r ../requirements.txt (line 4)) (0.28.1)\n",
      "Requirement already satisfied: jiter<1,>=0.4.0 in d:\\installation\\anaconda\\envs\\myenv\\lib\\site-packages (from openai->-r ../requirements.txt (line 4)) (0.10.0)\n",
      "Requirement already satisfied: pydantic<3,>=1.9.0 in d:\\installation\\anaconda\\envs\\myenv\\lib\\site-packages (from openai->-r ../requirements.txt (line 4)) (2.11.7)\n",
      "Requirement already satisfied: sniffio in d:\\installation\\anaconda\\envs\\myenv\\lib\\site-packages (from openai->-r ../requirements.txt (line 4)) (1.3.1)\n",
      "Requirement already satisfied: tqdm>4 in d:\\installation\\anaconda\\envs\\myenv\\lib\\site-packages (from openai->-r ../requirements.txt (line 4)) (4.67.1)\n",
      "Requirement already satisfied: typing-extensions<5,>=4.11 in d:\\installation\\anaconda\\envs\\myenv\\lib\\site-packages (from openai->-r ../requirements.txt (line 4)) (4.14.1)\n",
      "Requirement already satisfied: idna>=2.8 in d:\\installation\\anaconda\\envs\\myenv\\lib\\site-packages (from anyio<5,>=3.5.0->openai->-r ../requirements.txt (line 4)) (3.10)\n",
      "Requirement already satisfied: certifi in d:\\installation\\anaconda\\envs\\myenv\\lib\\site-packages (from httpx<1,>=0.23.0->openai->-r ../requirements.txt (line 4)) (2025.8.3)\n",
      "Requirement already satisfied: httpcore==1.* in d:\\installation\\anaconda\\envs\\myenv\\lib\\site-packages (from httpx<1,>=0.23.0->openai->-r ../requirements.txt (line 4)) (1.0.9)\n",
      "Requirement already satisfied: h11>=0.16 in d:\\installation\\anaconda\\envs\\myenv\\lib\\site-packages (from httpcore==1.*->httpx<1,>=0.23.0->openai->-r ../requirements.txt (line 4)) (0.16.0)\n",
      "Requirement already satisfied: annotated-types>=0.6.0 in d:\\installation\\anaconda\\envs\\myenv\\lib\\site-packages (from pydantic<3,>=1.9.0->openai->-r ../requirements.txt (line 4)) (0.7.0)\n",
      "Requirement already satisfied: pydantic-core==2.33.2 in d:\\installation\\anaconda\\envs\\myenv\\lib\\site-packages (from pydantic<3,>=1.9.0->openai->-r ../requirements.txt (line 4)) (2.33.2)\n",
      "Requirement already satisfied: typing-inspection>=0.4.0 in d:\\installation\\anaconda\\envs\\myenv\\lib\\site-packages (from pydantic<3,>=1.9.0->openai->-r ../requirements.txt (line 4)) (0.4.1)\n",
      "Requirement already satisfied: python-dotenv in d:\\installation\\anaconda\\envs\\myenv\\lib\\site-packages (from dotenv->-r ../requirements.txt (line 7)) (1.1.1)\n",
      "Requirement already satisfied: contourpy>=1.0.1 in d:\\installation\\anaconda\\envs\\myenv\\lib\\site-packages (from matplotlib->-r ../requirements.txt (line 8)) (1.3.3)\n",
      "Requirement already satisfied: cycler>=0.10 in d:\\installation\\anaconda\\envs\\myenv\\lib\\site-packages (from matplotlib->-r ../requirements.txt (line 8)) (0.12.1)\n",
      "Requirement already satisfied: fonttools>=4.22.0 in d:\\installation\\anaconda\\envs\\myenv\\lib\\site-packages (from matplotlib->-r ../requirements.txt (line 8)) (4.59.0)\n",
      "Requirement already satisfied: kiwisolver>=1.3.1 in d:\\installation\\anaconda\\envs\\myenv\\lib\\site-packages (from matplotlib->-r ../requirements.txt (line 8)) (1.4.9)\n",
      "Requirement already satisfied: packaging>=20.0 in d:\\installation\\anaconda\\envs\\myenv\\lib\\site-packages (from matplotlib->-r ../requirements.txt (line 8)) (25.0)\n",
      "Requirement already satisfied: pillow>=8 in d:\\installation\\anaconda\\envs\\myenv\\lib\\site-packages (from matplotlib->-r ../requirements.txt (line 8)) (11.3.0)\n",
      "Requirement already satisfied: pyparsing>=2.3.1 in d:\\installation\\anaconda\\envs\\myenv\\lib\\site-packages (from matplotlib->-r ../requirements.txt (line 8)) (3.2.3)\n",
      "Requirement already satisfied: six>=1.5 in d:\\installation\\anaconda\\envs\\myenv\\lib\\site-packages (from python-dateutil>=2.8.2->pandas->-r ../requirements.txt (line 2)) (1.17.0)\n",
      "Requirement already satisfied: colorama in d:\\installation\\anaconda\\envs\\myenv\\lib\\site-packages (from tqdm>4->openai->-r ../requirements.txt (line 4)) (0.4.6)\n"
     ]
    }
   ],
   "source": [
    "!pip install -r ../requirements.txt"
   ]
  },
  {
   "cell_type": "markdown",
   "id": "604af980",
   "metadata": {},
   "source": [
    "How binning helps?\n",
    "\n",
    "    1.Non-Linear relatioship with target\n",
    "        .binning can helps capture non-linear patterns that a linear model might miss\n",
    "    2.Skewed distribution\n",
    "        .binning can smooth out skew and reduce the effect of extreme values\n",
    "    3.Interpretability is key\n",
    "        .Easier for business users to  understand \"age 18-25\" than \"age=23\"\n",
    "    4.model prone to overfitting\n",
    "        binning reduce granularity -> fewer splits ->less overfitting\n",
    "    5.Need to reduce cardinality\n",
    "        Helps when a numeric column has too many unique values\n",
    "    6.sparse or noisy data\n",
    "        Binning can group rare or noisy values to improve signal strngth"
   ]
  },
  {
   "cell_type": "code",
   "execution_count": 1,
   "id": "9e15067d",
   "metadata": {},
   "outputs": [],
   "source": [
    "import numpy as np\n",
    "import pandas as pd\n",
    "import os #if im not know about my current library\n",
    "import seaborn as sns\n",
    "import matplotlib.pyplot as plt"
   ]
  },
  {
   "cell_type": "code",
   "execution_count": 2,
   "id": "68def647",
   "metadata": {},
   "outputs": [],
   "source": [
    "df = pd.read_csv('./data/processed/ChurnModeling_Outliers_Handled.csv')"
   ]
  },
  {
   "cell_type": "code",
   "execution_count": null,
   "id": "495fbecc",
   "metadata": {},
   "outputs": [],
   "source": []
  }
 ],
 "metadata": {
  "kernelspec": {
   "display_name": "myenv",
   "language": "python",
   "name": "python3"
  },
  "language_info": {
   "codemirror_mode": {
    "name": "ipython",
    "version": 3
   },
   "file_extension": ".py",
   "mimetype": "text/x-python",
   "name": "python",
   "nbconvert_exporter": "python",
   "pygments_lexer": "ipython3",
   "version": "3.11.13"
  }
 },
 "nbformat": 4,
 "nbformat_minor": 5
}
